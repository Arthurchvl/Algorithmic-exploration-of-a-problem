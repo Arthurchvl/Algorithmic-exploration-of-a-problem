{
 "cells": [
  {
   "cell_type": "markdown",
   "metadata": {
    "cell_id": "089259baeb0442a8b1c7b04362cc02a9",
    "deepnote_cell_type": "markdown"
   },
   "source": [
    "# Initiation à Python\n",
    "\n",
    "\n",
    "Le texte que vous êtes en train de lire est contenu dans une cellule de type *Markdown* qui permet un [formattage aisé](https://help.github.com/articles/markdown-basics/) du texte, y compris des formules $\\LaTeX$ en ligne comme $\\sum\\gamma_i^2$ ou en equations séprarées:\n",
    "$$\\frac{\\ln \\pi}{12}.$$\n",
    "\n",
    "Un notebook peut donc contenir deux types de cellules:\n",
    " - Markdown \n",
    " - Code\n",
    "\n",
    "Vous pouvez sélectionner le type de cellule dans le menu déroulant de la barre d'outils ci-dessus.  Vous pouvez ajouter des cellules. Les cellules de code s'exécutent en faisant Maj+Entrer (ou en utilisant le bouton \"play\" à gauche de la cellule dans vscode). Les cellules Markdown se formattent de la même façon et on retourne à l'édition de leur contenu par un double clic.\n",
    "\n",
    "## Les fonctions\n",
    "\n",
    "En Python, tout est dans l'indentation"
   ]
  },
  {
   "cell_type": "code",
   "execution_count": 1,
   "metadata": {
    "cell_id": "c6723d55dc6241e4b021f7fa861569e7",
    "deepnote_cell_type": "code"
   },
   "outputs": [
    {
     "name": "stdout",
     "output_type": "stream",
     "text": [
      "fini de définir ma fonction\n"
     ]
    }
   ],
   "source": [
    "def mafonction(a, b):\n",
    "    print(\"Je divise\")\n",
    "    return a/b # indentation de l'intérieur de la fonction = on est toujours dans la fonction\n",
    "print(\"fini de définir ma fonction\") # indentation de l'extérieur de la fonction donc la fonction est finie"
   ]
  },
  {
   "cell_type": "code",
   "execution_count": 2,
   "metadata": {
    "cell_id": "5cb8ade67a6e484caee4907290c7b5ad",
    "deepnote_cell_type": "code"
   },
   "outputs": [
    {
     "name": "stdout",
     "output_type": "stream",
     "text": [
      "Je divise\n"
     ]
    },
    {
     "data": {
      "text/plain": [
       "2.5"
      ]
     },
     "execution_count": 2,
     "metadata": {},
     "output_type": "execute_result"
    }
   ],
   "source": [
    "mafonction(5,2)\n"
   ]
  },
  {
   "cell_type": "markdown",
   "metadata": {
    "cell_id": "6481c2c1489f4b4a8516daa5157daab7",
    "deepnote_cell_type": "markdown"
   },
   "source": [
    "On peut documenter ses propres fonctions."
   ]
  },
  {
   "cell_type": "code",
   "execution_count": null,
   "metadata": {
    "cell_id": "50aee2141a404bfd86b7b1e295a02a61",
    "collapsed": true,
    "deepnote_cell_type": "code"
   },
   "outputs": [],
   "source": [
    "def mafonction(a, b):\n",
    "    \"\"\"Division de a par b\"\"\"\n",
    "    return a/b"
   ]
  },
  {
   "cell_type": "code",
   "execution_count": 4,
   "metadata": {
    "cell_id": "2d8847d9f8fc4b6c83f1b42d6dbb0a1e",
    "collapsed": true,
    "deepnote_cell_type": "code"
   },
   "outputs": [
    {
     "name": "stdout",
     "output_type": "stream",
     "text": [
      "Je divise\n"
     ]
    },
    {
     "data": {
      "text/plain": [
       "3.0"
      ]
     },
     "execution_count": 4,
     "metadata": {},
     "output_type": "execute_result"
    }
   ],
   "source": [
    "mafonction(6, 2)"
   ]
  },
  {
   "cell_type": "markdown",
   "metadata": {
    "cell_id": "bfb03bda1ca443cb8ed5535c6a048897",
    "deepnote_cell_type": "markdown"
   },
   "source": [
    "Il est possible d'avoir des arguments par défaut."
   ]
  },
  {
   "cell_type": "code",
   "execution_count": 5,
   "metadata": {
    "cell_id": "8374faddc8e6474ca7f80fb1492c16b2",
    "deepnote_cell_type": "code"
   },
   "outputs": [
    {
     "name": "stdout",
     "output_type": "stream",
     "text": [
      "2.5\n",
      "0.5\n"
     ]
    }
   ],
   "source": [
    "def mafonction(a, b=2):\n",
    "    \"\"\"Division de a par b\"\"\"\n",
    "    return a/b\n",
    "print(mafonction(5))\n",
    "print(mafonction(5,10))"
   ]
  },
  {
   "cell_type": "code",
   "execution_count": 7,
   "metadata": {
    "cell_id": "e173ce30cfcd4b4488c786f4b8042a60",
    "collapsed": true,
    "deepnote_cell_type": "code"
   },
   "outputs": [
    {
     "data": {
      "text/plain": [
       "2.5"
      ]
     },
     "execution_count": 7,
     "metadata": {},
     "output_type": "execute_result"
    }
   ],
   "source": [
    "mafonction(5)"
   ]
  },
  {
   "cell_type": "markdown",
   "metadata": {
    "cell_id": "d7aa5bd8af994505ac6ad346854dc72e",
    "deepnote_cell_type": "markdown"
   },
   "source": [
    "Un peu plus complexe : on imbrique deux indentations et on a 2 arguments avec des valeurs par défaut."
   ]
  },
  {
   "cell_type": "code",
   "execution_count": 8,
   "metadata": {
    "cell_id": "53ff37347b75431fb808a2eafe6b8e96",
    "deepnote_cell_type": "code"
   },
   "outputs": [
    {
     "name": "stdout",
     "output_type": "stream",
     "text": [
      "2.5\n",
      "0.5\n",
      "(5, 2)\n"
     ]
    }
   ],
   "source": [
    "def mafonction(a, b=2, diviser=True):\n",
    "    \"\"\"Division de a par b.\n",
    "    Si on ne divise pas, on retourne a et b\"\"\" #on a le droit de passer à la ligne si on a ouvert 3 guillemets\n",
    "    if diviser:\n",
    "        return a/b\n",
    "    else:\n",
    "        return a,b\n",
    "print(mafonction(5))\n",
    "print(mafonction(5, 10))\n",
    "print(mafonction(5, diviser=False))"
   ]
  },
  {
   "cell_type": "markdown",
   "metadata": {
    "cell_id": "8c53d59531b640d887df4f88c4d422dd",
    "deepnote_cell_type": "markdown"
   },
   "source": [
    "## Jouer avec les chaînes de caractères "
   ]
  },
  {
   "cell_type": "markdown",
   "metadata": {
    "cell_id": "9c2c7e07d0ce419b87c346ce2c5f37d3",
    "deepnote_cell_type": "markdown"
   },
   "source": [
    "### Indexation, sous-chaîne et concaténation"
   ]
  },
  {
   "cell_type": "code",
   "execution_count": 9,
   "metadata": {
    "cell_id": "6157aa8ba4454349b943290301f41e94",
    "deepnote_cell_type": "code"
   },
   "outputs": [
    {
     "name": "stdout",
     "output_type": "stream",
     "text": [
      "coucou\n",
      "c\n",
      "o\n",
      "u\n",
      "oucou\n",
      "cou\n",
      "couco\n",
      "cuo\n",
      "oo\n"
     ]
    }
   ],
   "source": [
    "a = \"coucou\" #definition de l'objet. Pas besoin de donner son type\n",
    "print(a) #affichage de toute la chaîne de caractères\n",
    "print(a[0]) #affichage du premier élément. Attention, les indices commencent à 0\n",
    "print(a[1])\n",
    "print(a[-1]) #affichage du dernier élément. On utilise des entiers négatifs pour partir de la fin\n",
    "print(a[1:]) #affichage à partir de l'élément 1\n",
    "print(a[:3]) #jusqu'à l'élément 3 non inclu. Equivalent mais plus court que a[0:3]\n",
    "print(a[:-1]) #jusqu'au dernier élément non inclu\n",
    "print(a[::2]) #tous les 2 éléments. Equivalent mais plus court que a[0:len(a):2]\n",
    "print(a[1:-1:3]) #à partir de l'élement 1, jusqu'au dernier élément non inclu, tous les 3 éléments"
   ]
  },
  {
   "cell_type": "code",
   "execution_count": 10,
   "metadata": {
    "cell_id": "8a82f7238bc44c48995bab3c4340f828",
    "deepnote_cell_type": "code"
   },
   "outputs": [
    {
     "name": "stdout",
     "output_type": "stream",
     "text": [
      "coucou\n",
      "coucou\n"
     ]
    }
   ],
   "source": [
    "print(\"cou\" + \"cou\") #concaténation de deux chaînes de caractères\n",
    "print(\"cou\" * 2) # répétition 2 fois"
   ]
  },
  {
   "cell_type": "markdown",
   "metadata": {
    "cell_id": "d97eaca47876480f92664ed8d587c280",
    "deepnote_cell_type": "markdown"
   },
   "source": [
    "### Les boucles"
   ]
  },
  {
   "cell_type": "code",
   "execution_count": 11,
   "metadata": {
    "cell_id": "15d7ff5737ff4765af881edc091807cf",
    "deepnote_cell_type": "code"
   },
   "outputs": [
    {
     "name": "stdout",
     "output_type": "stream",
     "text": [
      "c\n",
      "-\n",
      "o\n",
      "-\n",
      "u\n",
      "-\n",
      "c\n",
      "-\n",
      "o\n",
      "-\n",
      "u\n",
      "-\n",
      "c'est fini\n"
     ]
    }
   ],
   "source": [
    "#premiere boucle for. On itère directement sur les caractères de la chaîne.\n",
    "for lettre in a:\n",
    "    print(lettre)\n",
    "    print(\"-\") # indentation de l'intérieur de la boucle = on est toujours dans la boucle\n",
    "print(\"c'est fini\") # indentation de l'extérieur de la boucle donc la boucle est finie"
   ]
  },
  {
   "cell_type": "code",
   "execution_count": 12,
   "metadata": {
    "cell_id": "2ee981292de048079ecab19014c1d29c",
    "deepnote_cell_type": "code"
   },
   "outputs": [
    {
     "name": "stdout",
     "output_type": "stream",
     "text": [
      "u\n",
      "o\n",
      "c\n",
      "u\n",
      "o\n",
      "c\n"
     ]
    }
   ],
   "source": [
    "for lettre in a[::-1]:\n",
    "    print(lettre)"
   ]
  },
  {
   "cell_type": "code",
   "execution_count": 13,
   "metadata": {
    "cell_id": "7d5642b3e06b45e885dc4418adc9bf6a",
    "deepnote_cell_type": "code"
   },
   "outputs": [
    {
     "name": "stdout",
     "output_type": "stream",
     "text": [
      "0 c\n",
      "1 o\n",
      "2 u\n",
      "3 c\n",
      "4 o\n",
      "5 u\n"
     ]
    }
   ],
   "source": [
    "for i,lettre in enumerate(a): #i est l'indice de l'itération dans la boucle\n",
    "    print(i,lettre)"
   ]
  },
  {
   "cell_type": "code",
   "execution_count": 14,
   "metadata": {
    "cell_id": "42772807c29c4b6da2ab5c78b8e80b1d",
    "deepnote_cell_type": "code"
   },
   "outputs": [
    {
     "name": "stdout",
     "output_type": "stream",
     "text": [
      "cc\n",
      "oo\n",
      "ul\n",
      "ci\n",
      "ob\n",
      "ur\n"
     ]
    }
   ],
   "source": [
    "for u,v in zip(a, \"colibri\"): #à chaque tour de boucle on prend une lettre de \"coucou\" et une lettre de \"colibri\"\n",
    "    print(u+v)"
   ]
  },
  {
   "cell_type": "markdown",
   "metadata": {
    "cell_id": "a9556019caba464aa6844dd914be2042",
    "deepnote_cell_type": "markdown"
   },
   "source": [
    "### Phrases à trous"
   ]
  },
  {
   "cell_type": "code",
   "execution_count": 15,
   "metadata": {
    "cell_id": "2924a27b6b9d4aea84f1f2abdf702c29",
    "deepnote_cell_type": "code"
   },
   "outputs": [
    {
     "name": "stdout",
     "output_type": "stream",
     "text": [
      "Je m'appelle {}.\n",
      "Je m'appelle Mathieu.\n"
     ]
    }
   ],
   "source": [
    "b = \"Je m'appelle {}.\"\n",
    "print(b)\n",
    "print(b.format(\"Mathieu\"))"
   ]
  },
  {
   "cell_type": "code",
   "execution_count": 16,
   "metadata": {
    "cell_id": "ce72bf64f8424ded864e7ee1b660b606",
    "deepnote_cell_type": "code"
   },
   "outputs": [
    {
     "name": "stdout",
     "output_type": "stream",
     "text": [
      "coucou\n"
     ]
    }
   ],
   "source": [
    "print(a.format(\"Mathieu\"))"
   ]
  },
  {
   "cell_type": "code",
   "execution_count": 17,
   "metadata": {
    "cell_id": "9a76e31ec70141c4a7bd6cbc827b9a9a",
    "deepnote_cell_type": "code"
   },
   "outputs": [
    {
     "name": "stdout",
     "output_type": "stream",
     "text": [
      "My name is Bond, James Bond.\n"
     ]
    }
   ],
   "source": [
    "b = \"My name is {1}, {0} {1}.\"\n",
    "print(b.format(\"James\", \"Bond\"))"
   ]
  },
  {
   "cell_type": "code",
   "execution_count": 18,
   "metadata": {
    "cell_id": "ec59c6567b9e4ac1be4c60c4da17fb40",
    "deepnote_cell_type": "code"
   },
   "outputs": [
    {
     "name": "stdout",
     "output_type": "stream",
     "text": [
      "My name is Bond, James Bond.\n"
     ]
    }
   ],
   "source": [
    "b2 = \"My name is {nom}, {prenom} {nom}.\"\n",
    "print(b2.format(prenom=\"James\", nom=\"Bond\"))"
   ]
  },
  {
   "cell_type": "code",
   "execution_count": 19,
   "metadata": {
    "cell_id": "0ca76617c4c54cdeaac66cd832746cc0",
    "deepnote_cell_type": "code"
   },
   "outputs": [
    {
     "name": "stdout",
     "output_type": "stream",
     "text": [
      "Veuillez charger le fichier acquisition_t005.txt\n",
      "Veuillez charger le fichier acquisition_t023.txt\n",
      "Veuillez charger le fichier acquisition_t328.txt\n"
     ]
    }
   ],
   "source": [
    "c = \"Veuillez charger le fichier acquisition_t{:03d}.txt\" #nombre décimal sur 3 chiffres, éventuellement complétés de zéros\n",
    "print(c.format(5))\n",
    "print(c.format(23))\n",
    "print(c.format(328))"
   ]
  },
  {
   "cell_type": "markdown",
   "metadata": {
    "cell_id": "f9e17db501264fcfb9a582183abc4c2e",
    "deepnote_cell_type": "markdown"
   },
   "source": [
    "Syntaxe complète des [instructions de formattage](https://docs.python.org/3/library/string.html#format-string-syntax), si un jour vous avez envie d'afficher un nombre hexadécimal sur 7 charactères minimum, éventuellement complété avec des symboles livre sterling, ou un nombre flottant avec 2 chiffres significatifs.\n",
    "\n",
    "On peut aussi obtenir de l'aide sur une méthode d'un objet."
   ]
  },
  {
   "cell_type": "code",
   "execution_count": 21,
   "metadata": {
    "cell_id": "15912d7a5948410a8ba7cad5d587e9ef",
    "collapsed": true,
    "deepnote_cell_type": "code"
   },
   "outputs": [
    {
     "data": {
      "text/plain": [
       "'Veuillez charger le fichier acquisition_t005.txt'"
      ]
     },
     "execution_count": 21,
     "metadata": {},
     "output_type": "execute_result"
    }
   ],
   "source": [
    "c.format(5)"
   ]
  },
  {
   "cell_type": "code",
   "execution_count": 20,
   "metadata": {
    "cell_id": "f9cf59f829c941e1a1bbe1198d8c7ef4",
    "deepnote_cell_type": "code"
   },
   "outputs": [
    {
     "name": "stdout",
     "output_type": "stream",
     "text": [
      "Veuillez charger le fichier acquisition_t005.txt\n"
     ]
    }
   ],
   "source": [
    "print(\"Veuillez charger le fichier acquisition_t%03d.txt\"%5)"
   ]
  },
  {
   "cell_type": "markdown",
   "metadata": {
    "cell_id": "0055c183e7cb41a7bbcad5cfb3511e23",
    "deepnote_cell_type": "markdown"
   },
   "source": [
    "## Listes"
   ]
  },
  {
   "cell_type": "code",
   "execution_count": 22,
   "metadata": {
    "cell_id": "61a85333f12e44ffaae08c8003b7c248",
    "deepnote_cell_type": "code"
   },
   "outputs": [
    {
     "name": "stdout",
     "output_type": "stream",
     "text": [
      "['a', 'b', 127, 3.14, ['James', 'Bond'], 'c']\n",
      "a\n",
      "b\n",
      "ab\n",
      "c Mr Bond.\n"
     ]
    }
   ],
   "source": [
    "l = [\"a\", \"b\", 127, 3.14, [\"James\", \"Bond\"], \"c\"]\n",
    "print(l)\n",
    "print(l[0])\n",
    "print(l[1][0])\n",
    "print(l[0]+l[1].format(l[-2][0], l[-2][1])) # pour \"déplier\" tous les éléments de la liste l[-2] en tant qu'arguments de la fonction format\n",
    "#possible d'écrire directement format(*l[-2])\n",
    "print(l[-1].format(l[2]) + \" Mr {}.\".format(l[-2][-1]))"
   ]
  },
  {
   "cell_type": "markdown",
   "metadata": {
    "cell_id": "8447f244ca0646b1ab60fac8f654d4a4",
    "deepnote_cell_type": "markdown"
   },
   "source": [
    "Il est possible de modifier les éléments d'une liste et même de changer leur type."
   ]
  },
  {
   "cell_type": "code",
   "execution_count": 23,
   "metadata": {
    "cell_id": "61e744e550ef4f6aafd1490c2bb38dda",
    "deepnote_cell_type": "code"
   },
   "outputs": [
    {
     "name": "stdout",
     "output_type": "stream",
     "text": [
      "c Mr 3.\n"
     ]
    }
   ],
   "source": [
    "l[2] = 12\n",
    "l[-2][-1] = 3\n",
    "print(l[-1].format(l[2]) + \" Mr {}.\".format(l[-2][-1]))"
   ]
  },
  {
   "cell_type": "code",
   "execution_count": 24,
   "metadata": {
    "cell_id": "21d7f05f3998426098576266cd4c6716",
    "deepnote_cell_type": "code"
   },
   "outputs": [
    {
     "name": "stdout",
     "output_type": "stream",
     "text": [
      "[0, 1, 4]\n"
     ]
    }
   ],
   "source": [
    "l2 = []\n",
    "for i in range(3):\n",
    "    l2.append(i**2)\n",
    "print(l2)"
   ]
  },
  {
   "cell_type": "markdown",
   "metadata": {
    "cell_id": "7178f48b7e3045debcdaca7c1ce80616",
    "deepnote_cell_type": "markdown"
   },
   "source": [
    "## tuple\n",
    "\n",
    "Comme une liste, mais avec des parenthèses au lieu de crochets. Il est interdit de modifier le contenu d'un tuple."
   ]
  },
  {
   "cell_type": "code",
   "execution_count": 25,
   "metadata": {
    "cell_id": "41917011732748ffa1ced72f342d1379",
    "deepnote_cell_type": "code"
   },
   "outputs": [
    {
     "name": "stdout",
     "output_type": "stream",
     "text": [
      "('a', 'b', 127, 3.14, ('James', 'Bond'), 'c')\n",
      "a\n",
      "b\n",
      "ab\n",
      "c Mr Bond.\n"
     ]
    }
   ],
   "source": [
    "t = (\"a\", \"b\", 127, 3.14, (\"James\", \"Bond\"), \"c\")\n",
    "print(t)\n",
    "print(t[0])\n",
    "print(t[1][0])\n",
    "print(t[0]+t[1].format(*t[-2]))\n",
    "print(t[-1].format(t[2]) + \" Mr {}.\".format(t[-2][-1]))"
   ]
  },
  {
   "cell_type": "code",
   "execution_count": 26,
   "metadata": {
    "cell_id": "84992e90f6d54776b9726c11bf362177",
    "deepnote_cell_type": "code"
   },
   "outputs": [
    {
     "data": {
      "text/plain": [
       "('a', 'b', 12, 3.14, ['James', 3], 'c')"
      ]
     },
     "execution_count": 26,
     "metadata": {},
     "output_type": "execute_result"
    }
   ],
   "source": [
    "tuple(l)"
   ]
  },
  {
   "cell_type": "code",
   "execution_count": 27,
   "metadata": {
    "cell_id": "3abd23b4e6444c19930247884e50e0ad",
    "deepnote_cell_type": "code"
   },
   "outputs": [
    {
     "data": {
      "text/plain": [
       "['a', 'b', 127, 3.14, ('James', 'Bond'), 'c']"
      ]
     },
     "execution_count": 27,
     "metadata": {},
     "output_type": "execute_result"
    }
   ],
   "source": [
    "list(t)"
   ]
  },
  {
   "cell_type": "markdown",
   "metadata": {
    "cell_id": "64ccef310cda4c2796a1bfde25f9f0cc",
    "deepnote_cell_type": "markdown"
   },
   "source": [
    "# Librairies\n",
    "\n",
    "## Import\n",
    "\n",
    "Toute la librairie"
   ]
  },
  {
   "cell_type": "code",
   "execution_count": 28,
   "metadata": {
    "cell_id": "aaf6219ce8d74481ac682f89312a718b",
    "deepnote_cell_type": "code"
   },
   "outputs": [
    {
     "data": {
      "text/plain": [
       "['.DS_Store', 'Initiation.ipynb']"
      ]
     },
     "execution_count": 28,
     "metadata": {},
     "output_type": "execute_result"
    }
   ],
   "source": [
    "import os\n",
    "os.listdir()"
   ]
  },
  {
   "cell_type": "markdown",
   "metadata": {
    "cell_id": "3233f5712bab48868d2a976e87bd58ca",
    "deepnote_cell_type": "markdown"
   },
   "source": [
    "Une seule fonction dans la librairie, directement accessible sans avoir à taper `librairie.fonction`"
   ]
  },
  {
   "cell_type": "code",
   "execution_count": 29,
   "metadata": {
    "cell_id": "d42bd3104b764e3681f5283aabaff8bf",
    "deepnote_cell_type": "code"
   },
   "outputs": [
    {
     "data": {
      "text/plain": [
       "['.DS_Store', 'Initiation.ipynb']"
      ]
     },
     "execution_count": 29,
     "metadata": {},
     "output_type": "execute_result"
    }
   ],
   "source": [
    "from os import listdir\n",
    "listdir()"
   ]
  },
  {
   "cell_type": "markdown",
   "metadata": {
    "cell_id": "d9e86876878849d38d92798d5580b8ae",
    "deepnote_cell_type": "markdown"
   },
   "source": [
    "Marche aussi avec les sous-librairies et les fonctions des sous librairies."
   ]
  },
  {
   "cell_type": "code",
   "execution_count": 30,
   "metadata": {
    "cell_id": "182f69b2cb294d9c94f8169a6a96474d",
    "deepnote_cell_type": "code"
   },
   "outputs": [
    {
     "name": "stdout",
     "output_type": "stream",
     "text": [
      "True\n",
      "True\n"
     ]
    }
   ],
   "source": [
    "from os import path #sous-librairie de os\n",
    "print(path.isfile('Initiation.ipynb'))\n",
    "from os.path import isfile\n",
    "print(isfile('Initiation.ipynb'))"
   ]
  },
  {
   "cell_type": "markdown",
   "metadata": {
    "cell_id": "1c967245b97744178026e13b897ebc10",
    "deepnote_cell_type": "markdown"
   },
   "source": [
    "La syntaxe, **à éviter en général**, de l'import de tout ce qui est dans une librairie.\n",
    "\n",
    "```python\n",
    "from os import *\n",
    "```"
   ]
  },
  {
   "cell_type": "markdown",
   "metadata": {
    "cell_id": "2494f5e7a2a14970862588716c8e3a46",
    "deepnote_cell_type": "markdown"
   },
   "source": [
    "### Numpy : tableaux numériques"
   ]
  },
  {
   "cell_type": "code",
   "execution_count": 3,
   "metadata": {
    "cell_id": "b1bab1af8d5946298e3bc1563a139d03",
    "collapsed": true,
    "deepnote_cell_type": "code"
   },
   "outputs": [],
   "source": [
    "import numpy as np #abbréviation du nom de la librairie pour taper 2 lettres au lieu de 5"
   ]
  },
  {
   "cell_type": "markdown",
   "metadata": {
    "cell_id": "4db9a9eb236d4b1a94c819bbea7c2222",
    "deepnote_cell_type": "markdown"
   },
   "source": [
    "Quelques fonctions pour créer des tableaux standards."
   ]
  },
  {
   "cell_type": "code",
   "execution_count": 4,
   "metadata": {
    "cell_id": "4c57a4c1f13b45bab82ef9cafd84f794",
    "deepnote_cell_type": "code"
   },
   "outputs": [
    {
     "data": {
      "text/plain": [
       "(array([0., 0., 0.]), array([1.+0.j, 1.+0.j]), array([0, 1, 2, 3]))"
      ]
     },
     "execution_count": 4,
     "metadata": {},
     "output_type": "execute_result"
    }
   ],
   "source": [
    "np.zeros(3), np.ones(2, complex), np.arange(4)"
   ]
  },
  {
   "cell_type": "code",
   "execution_count": 5,
   "metadata": {
    "cell_id": "c20c9ad5447946258f6c6ac85fe5e198",
    "deepnote_cell_type": "code"
   },
   "outputs": [
    {
     "name": "stdout",
     "output_type": "stream",
     "text": [
      "[1, 5, 7]\n",
      "[1 5 7]\n",
      "[1.2 5.  6. ]\n",
      "a est un tableau à 1 dimensions de taille (3,) contenant uniquement des int64\n",
      "b est un tableau à 1 dimensions de taille (3,) contenant uniquement des float64\n"
     ]
    }
   ],
   "source": [
    "l = [1,5,7] #liste numérique\n",
    "print(l)\n",
    "a = np.array(l) #transformée en tableau numpy\n",
    "print(a)\n",
    "b = np.array([1.2, 5, 6]) #les 2 étapes d'un coup\n",
    "print(b)\n",
    "print(\"a est un tableau à {} dimensions de taille {} contenant uniquement des {}\".format(a.ndim, a.shape, a.dtype)) \n",
    "print(\"b est un tableau à {} dimensions de taille {} contenant uniquement des {}\".format(b.ndim, b.shape, b.dtype)) "
   ]
  },
  {
   "cell_type": "markdown",
   "metadata": {
    "cell_id": "90ee8bbcf8c54a5e83230125fafc044a",
    "deepnote_cell_type": "markdown"
   },
   "source": [
    "Toutes les opérations se font élément par élément, même la multiplication. Pas besoin de point comme en MATLAB. La multiplication matricielle se fait avec `np.matmul`."
   ]
  },
  {
   "cell_type": "code",
   "execution_count": 6,
   "metadata": {
    "cell_id": "6e5d70d70acd401f89dee1bdbf47c899",
    "deepnote_cell_type": "code"
   },
   "outputs": [
    {
     "name": "stdout",
     "output_type": "stream",
     "text": [
      "[ 2 10 14]\n",
      "[ 2.2 10.  13. ]\n",
      "[ 1.2 25.  42. ]\n",
      "[0.83333333 1.         1.16666667]\n",
      "[False  True  True]\n",
      "[   2.71828183  148.4131591  1096.63315843]\n"
     ]
    }
   ],
   "source": [
    "print(2 * a)\n",
    "print(a + b)\n",
    "print(a * b)\n",
    "print(a / b)\n",
    "print(a>2)\n",
    "print(np.exp(a))"
   ]
  },
  {
   "cell_type": "markdown",
   "metadata": {
    "cell_id": "246b3086bb3341389ff28ec6cd1e3b2d",
    "deepnote_cell_type": "markdown"
   },
   "source": [
    "Le type des tableaux s'adapte automatiquement si besoin"
   ]
  },
  {
   "cell_type": "code",
   "execution_count": 7,
   "metadata": {
    "cell_id": "ac2c8fa740e54a2fb0f7207f310b276e",
    "deepnote_cell_type": "code"
   },
   "outputs": [
    {
     "name": "stdout",
     "output_type": "stream",
     "text": [
      "float64\n",
      "[1.         0.4        0.42857143]\n",
      "float64\n",
      "[1 0 0]\n",
      "int64\n"
     ]
    }
   ],
   "source": [
    "c = a + b\n",
    "print(c.dtype)\n",
    "d = np.array([1,2,3])/a #division réélle, bseoin de passer en flottant, même si les tableaux ne contiennent que des entiers\n",
    "print(d)\n",
    "print(d.dtype)\n",
    "e = np.array([1,2,3])//a #division Euclidienne, on reste en entiers\n",
    "print(e)\n",
    "print(e.dtype)"
   ]
  },
  {
   "cell_type": "code",
   "execution_count": 8,
   "metadata": {
    "cell_id": "9772f0ee3c4c4b39b4e06008a9828ccb",
    "deepnote_cell_type": "code"
   },
   "outputs": [
    {
     "name": "stdout",
     "output_type": "stream",
     "text": [
      "a est un tableau à 2 dimensions de taille (2, 3) contenant uniquement des int64\n"
     ]
    }
   ],
   "source": [
    "a = np.array([[1,2,3],[7,4,5]])\n",
    "print(\"a est un tableau à {} dimensions de taille {} contenant uniquement des {}\".format(a.ndim, a.shape, a.dtype)) "
   ]
  },
  {
   "cell_type": "code",
   "execution_count": 9,
   "metadata": {
    "cell_id": "7e731db0f943422b928be41f665ae682",
    "deepnote_cell_type": "code"
   },
   "outputs": [
    {
     "name": "stdout",
     "output_type": "stream",
     "text": [
      "[[1 2 3]\n",
      " [7 4 5]]\n",
      "[[1 7]\n",
      " [2 4]\n",
      " [3 5]]\n"
     ]
    }
   ],
   "source": [
    "print(a)\n",
    "print(a.T)"
   ]
  },
  {
   "cell_type": "markdown",
   "metadata": {
    "cell_id": "18362ea4d777408087d176277809e82a",
    "deepnote_cell_type": "markdown"
   },
   "source": [
    "De nombreuses possibilités d'indexation"
   ]
  },
  {
   "cell_type": "code",
   "execution_count": 10,
   "metadata": {
    "cell_id": "7bd7539471b9452d93616c437245f7f6",
    "deepnote_cell_type": "code"
   },
   "outputs": [
    {
     "name": "stdout",
     "output_type": "stream",
     "text": [
      "2\n",
      "[1 2 3]\n",
      "2\n",
      "[1 7]\n",
      "[[7 5]\n",
      " [1 3]]\n",
      "[3 7 4 5]\n"
     ]
    }
   ],
   "source": [
    "print(a[0,1])\n",
    "print(a[0])\n",
    "print(a[0][1])\n",
    "print(a[:,0])\n",
    "print(a[::-1,[0, 2]])\n",
    "print(a[a>2])"
   ]
  },
  {
   "cell_type": "markdown",
   "metadata": {
    "cell_id": "3b64e9675d7b407db5dc82678ba05e85",
    "deepnote_cell_type": "markdown"
   },
   "source": [
    "Possible de faire des opération si l'un des tableaux est de dimension plus faible et si la forme de celui-ci correspond à la fin de la forme de l'autre tableau."
   ]
  },
  {
   "cell_type": "code",
   "execution_count": 11,
   "metadata": {
    "cell_id": "a3a5b566d5c7493c916fecea629d934e",
    "deepnote_cell_type": "code"
   },
   "outputs": [
    {
     "name": "stdout",
     "output_type": "stream",
     "text": [
      "[[1 2 3]\n",
      " [7 4 5]]\n",
      "[1.2 5.  6. ]\n",
      "(2, 3) (3,)\n"
     ]
    },
    {
     "data": {
      "text/plain": [
       "array([[ 2.2,  7. ,  9. ],\n",
       "       [ 8.2,  9. , 11. ]])"
      ]
     },
     "execution_count": 11,
     "metadata": {},
     "output_type": "execute_result"
    }
   ],
   "source": [
    "print(a)\n",
    "print(b)\n",
    "print(a.shape, b.shape)\n",
    "a + b"
   ]
  },
  {
   "cell_type": "code",
   "execution_count": 12,
   "metadata": {
    "cell_id": "8f944d20881d4691af3d72b8a053e418",
    "deepnote_cell_type": "code"
   },
   "outputs": [
    {
     "data": {
      "text/plain": [
       "array([[2, 9],\n",
       "       [9, 8],\n",
       "       [8, 8]])"
      ]
     },
     "execution_count": 12,
     "metadata": {},
     "output_type": "execute_result"
    }
   ],
   "source": [
    "b = np.array([[1,2],[7,4],[5,3]])\n",
    "a.T + b"
   ]
  },
  {
   "cell_type": "code",
   "execution_count": 13,
   "metadata": {
    "cell_id": "0a8b22d6cd1d448098d2cc1ed0334ce7",
    "deepnote_cell_type": "code"
   },
   "outputs": [
    {
     "name": "stdout",
     "output_type": "stream",
     "text": [
      "22\n",
      "[8 6 8]\n",
      "[ 6 16]\n"
     ]
    }
   ],
   "source": [
    "print(a.sum())\n",
    "print(a.sum(axis=0))\n",
    "print(a.sum(axis=1))"
   ]
  },
  {
   "cell_type": "markdown",
   "metadata": {
    "cell_id": "c7ec70616c1a4023b6fac5b17f845d5e",
    "deepnote_cell_type": "markdown"
   },
   "source": [
    "### Matplotlib\n",
    "\n",
    "Graphiques, lecture et écriture d'images"
   ]
  },
  {
   "cell_type": "code",
   "execution_count": 14,
   "metadata": {
    "cell_id": "01a015b6bbac478e8e59144c63e0eadd",
    "deepnote_cell_type": "code"
   },
   "outputs": [
    {
     "name": "stdout",
     "output_type": "stream",
     "text": [
      "Using matplotlib backend: module://matplotlib_inline.backend_inline\n"
     ]
    }
   ],
   "source": [
    "from matplotlib import pylab as plt\n",
    "#permet la modification en live des figures dans le notebook\n",
    "%matplotlib"
   ]
  },
  {
   "cell_type": "code",
   "execution_count": 15,
   "metadata": {
    "cell_id": "5e900e9174574941be4e6fe506b1aed7",
    "deepnote_cell_type": "code"
   },
   "outputs": [
    {
     "data": {
      "text/plain": [
       "[<matplotlib.lines.Line2D at 0x107d78290>]"
      ]
     },
     "execution_count": 15,
     "metadata": {},
     "output_type": "execute_result"
    },
    {
     "data": {
      "image/png": "[encoded data removed]",
      "text/plain": [
       "<Figure size 640x480 with 1 Axes>"
      ]
     },
     "metadata": {},
     "output_type": "display_data"
    }
   ],
   "source": [
    "b = [1, 2, 3, 4, 5]\n",
    "plt.plot(b)\n"
   ]
  },
  {
   "cell_type": "markdown",
   "metadata": {
    "cell_id": "ea6a17be194c45c7ac21f33467e7d7d5",
    "deepnote_cell_type": "markdown"
   },
   "source": [
    "Pour un document à montrer, on préfère avoir des figures directement insérée dedans en tant qu'image."
   ]
  },
  {
   "cell_type": "code",
   "execution_count": 16,
   "metadata": {
    "cell_id": "4c092bceb00e41f5a898b50aa9db65fe",
    "deepnote_cell_type": "code"
   },
   "outputs": [
    {
     "data": {
      "text/plain": [
       "[<matplotlib.lines.Line2D at 0x107dd17c0>]"
      ]
     },
     "execution_count": 16,
     "metadata": {},
     "output_type": "execute_result"
    },
    {
     "data": {
      "image/png": "[encoded data removed]",
      "text/plain": [
       "<Figure size 640x480 with 1 Axes>"
      ]
     },
     "metadata": {},
     "output_type": "display_data"
    }
   ],
   "source": [
    "%matplotlib inline\n",
    "plt.plot(b)"
   ]
  },
  {
   "cell_type": "markdown",
   "metadata": {
    "cell_id": "264cd2abf9aa4a5ea546dc653a97a336",
    "deepnote_cell_type": "markdown"
   },
   "source": [
    "Mais on ne peut plus sélectionner les données directement, pas très pratique pour l'analyse de données. On revient donc en mode normal (fenêtre externe)."
   ]
  },
  {
   "cell_type": "code",
   "execution_count": 17,
   "metadata": {
    "cell_id": "f01c30e9e0c34dc1be7f394079429142",
    "deepnote_cell_type": "code"
   },
   "outputs": [
    {
     "name": "stdout",
     "output_type": "stream",
     "text": [
      "Using matplotlib backend: inline\n"
     ]
    }
   ],
   "source": [
    "%matplotlib"
   ]
  },
  {
   "cell_type": "code",
   "execution_count": 18,
   "metadata": {
    "cell_id": "0b19d94432ed463d9bad93fcbb787bb9",
    "deepnote_cell_type": "code"
   },
   "outputs": [
    {
     "data": {
      "image/png": "[encoded data removed]",
      "text/plain": [
       "<Figure size 640x480 with 1 Axes>"
      ]
     },
     "metadata": {},
     "output_type": "display_data"
    }
   ],
   "source": [
    "plt.figure('Evolution de b') # création ou sélection d'une figure. La figure est nommée, ce qui est plus explicite qu'une numérotation\n",
    "plt.clf() # on efface la figure courante\n",
    "plt.plot(b)\n",
    "plt.yscale('log')\n",
    "plt.ylabel('b')\n",
    "plt.xlabel(r'$\\gamma_c$') # pas de caractères spéciaux, donc on a le droit de mettre des antislash pour les commandes LaTeX\n",
    "plt.savefig('mafig.pdf')"
   ]
  },
  {
   "cell_type": "markdown",
   "metadata": {},
   "source": [
    "### Numpy et l'algèbre linéaire"
   ]
  },
  {
   "cell_type": "markdown",
   "metadata": {},
   "source": [
    " Définir les matrices suivantes.  \n",
    "\t$M_1=\\left( \\begin{array}\n",
    "\t\t{ccccc} 5 & 6 & 7 & 8 & 9 \\end{array} \\right),  \n",
    "\tM_2=\\left( \\begin{array}\n",
    "\t\t{ccccc} 1 & 1 & 1 & 1 & 1 \\end{array} \\right),    \n",
    "\tM_3=\\left( \\begin{array}\n",
    "\t\t{c}\t1 \\\\\n",
    "\t\t2 \\\\\n",
    "\t\t3 \\end{array} \\right),\n",
    "\tM_4=\\left( \\begin{array}{ccc}\n",
    "\t\t1 & 2 & 4 \\\\\n",
    "\t\t-1 & 2 & 3 \\\\\n",
    "\t\t1 & 8 & 9 \\end{array} \\right).\n",
    "\t$"
   ]
  },
  {
   "cell_type": "markdown",
   "metadata": {},
   "source": [
    " \n",
    "Construire les matrices suivantes à partir des matrices $M_1, \\; M_2, \\; M_3, \\; M_4$ définies précédemment :  \n",
    "\t$\n",
    "\tM_5=\\left( \\begin{array}\n",
    "\t\t{cccccc} 5 & 6 & 7 & 8 & 9 & 10 \\end{array} \\right)\n",
    "\t$   \n",
    "\t$\n",
    "\tM_6=\\left( \\begin{array}\n",
    "\t\t{cccccccccc} 1 & 1 & 1 & 1 & 1 & 5 & 6 & 7 & 8 & 9 \\end{array} \\right)\n",
    "\t$  \n",
    "\t$\n",
    "\tM_7=\\left( \\begin{array}{ccccc}\n",
    "\t\t5 & 6 & 7 & 8 & 9 \\\\\n",
    "\t\t1 & 1 & 1 & 1 & 1.\n",
    "\t\\end{array} \\right)\n",
    "\t$  \n",
    "\t$\n",
    "\tM_8=\\left( \\begin{array}{c}\n",
    "\t\t1 \\\\\n",
    "\t\t2 \\\\\n",
    "\t\t3 \\\\\n",
    "\t\t4\n",
    "\t\\end{array} \\right) \n",
    "\t$  \n",
    "\t$\n",
    "\tM_9=\\left( \\begin{array}{cccc}\n",
    "\t\t1 & 2 & 4 & 1 \\\\\n",
    "\t\t-1 & 2 & 3 & 7 \\\\\n",
    "\t\t1 & 8 & 9 & 4\n",
    "\t\\end{array} \\right)\n",
    "\t$  \n",
    "\t$ \n",
    "\tM_{10}=\\left( \\begin{array}{cccc}\n",
    "\t\t1 & 2 & 4 & 1 \\\\\n",
    "\t\t-1 & 2 & 3 & 2 \\\\\n",
    "\t\t1 & 8 & 9 & 3\n",
    "\t\\end{array} \\right)\n",
    "\t$"
   ]
  },
  {
   "cell_type": "markdown",
   "metadata": {},
   "source": [
    "1. $M_{12}$ : Ajouter $2$ au début de $M_2$.\n",
    "2. $M_{13}$ : Ajouter $8$ en bas de $M_3$ et $9$ en haut de $M_3$.\n",
    "3. $M_{14}$ : Supprimer la $2$ème ligne de $M_4$. _On pourra utiliser l'instruction **np.delete()**_\n",
    "4. $M_{15}$ : Supprimer la $1$ère et la $3$ème cases de $M_1$.\n",
    "5. $M_{16}$ : Mettre $8$ dans la $1$ère et la $3$ème cases de $M_1$.\n",
    "6. $M_{17}$ : Supprimer la $2$ème colonne de $M_4$.\n"
   ]
  },
  {
   "cell_type": "code",
   "execution_count": 24,
   "metadata": {},
   "outputs": [],
   "source": [
    "M2=np.array([1, 1, 1, 1, 1])\n",
    "M12=np.insert(M2, 0, 2)\n",
    "\n",
    "M13=np.array([[9], [1], [2], [3], [8]])\n",
    "\n",
    "M4=np.array([[1, 2, 4], [-1, 2, 3], [1, 8, 9]])\n",
    "M14=np.delete(M4, 1, 0)\n",
    "\n",
    "M1=np.array([5, 6, 7, 8, 9])\n",
    "M15=np.delete(M1, [0,2])\n",
    "\n",
    "M16=np.insert(M1, [0, 2], 8)\n",
    "\n",
    "M17=np.delete(M4, 1, 0)"
   ]
  },
  {
   "cell_type": "markdown",
   "metadata": {},
   "source": [
    "Sans utiliser les fonctions **abs**, **pow** ou encore l'opérateur **? :\n",
    "1. Définir une fonction **absolue** prenant en entrée un entier et retournant sa valeur absolue. (On ne demande pas de vérifier que le paramètre passé à la fonction est un entier).\n",
    "2. Définir une fonction **fact** prenant en entrée un entier positif et retournant sa factorielle définie par $$n !\\, = \\prod_{i=1}^ni=n(n-1)(n-2)\\cdots1$$.\n",
    "3. Définir une fonction **puissance** prenant deux arguments $x$ et $n$ et retournant $x^n$. (On supposera que $n$ est un entier positif, et on posera $x^{0}=1$ pour tout réel $x$). \n",
    "4. Définir les deux fonctions précédentes de manières itérative et récursive. "
   ]
  },
  {
   "cell_type": "code",
   "execution_count": 40,
   "metadata": {},
   "outputs": [],
   "source": [
    "def absolue(i):\n",
    "    if (i < 0):\n",
    "        return -i\n",
    "    else:\n",
    "        return i\n",
    "    \n",
    "def fact(n):\n",
    "    res = 1\n",
    "    for var in range (n, 1, -1):\n",
    "        res = res * var\n",
    "    return res\n",
    "\n",
    "def puissance(x,n):\n",
    "    if n == 0:\n",
    "        return 1\n",
    "    else:\n",
    "        return x ** n\n",
    "    \n",
    "def factRec(n2):\n",
    "    res = 1\n",
    "    if n2 <= 1:\n",
    "        return 1\n",
    "    return res * factRec(n2-1)\n",
    "\n",
    "def puissanceRec(x2, n2):\n",
    "    if n2 == 0:\n",
    "        return 1\n",
    "    return x2 * puissanceRec(x2, n2 - 1)\n"
   ]
  },
  {
   "cell_type": "markdown",
   "metadata": {},
   "source": [
    "Dans chacun cas suivant, écrire une fonction qui résout le problème posé sans utiliser les fonctions prédéfinies de python.\n",
    "1. Écrire une fonction _transpose_ qui prend en entrée une matrice $A$ de taille $p\\times n$ et retourne une matrice $B$ égale à la transposée $~^tA$ de $A$.\n",
    "2. Écrire une fonction _diagonale_ qui prend en entrée une matrice $A$ de taille $p\\times n$ et retourne une matrice  $B$ de même taille dont les coefficients de la diagonale sont égaux à ceux de $A$ et les autres son nuls.\n",
    "3. Ecrire une fonction _trace_ qui prend en entrée une matrice $A$ de taille $n \\times n$ et retourne la somme des valeurs de la diagonale principale.\n",
    "4. Ecrire une fonction _valeurmax_ qui prend en entrée une matrice $A$ de taille $n \\times p$ quelconque et retourne la valeur maximale des coefficients de $A$ et sa position  (i_max,j_max) dans la matrice $A$.\n",
    "5. Écrire une fonction _produitscalaire_ qui prend en paramètres d'entrée un vecteur ligne $A$ et un vecteur colonne $B$, de tailles $1\\times l$ et $l\\times 1$, et retourne leur produit scalaire.\n",
    "6. Écrire une fonction _produitmatrice_ qui prend en entrée deux matrices $A$ et $B$, de tailles $m\\times p$ et $k\\times n$, et retourne leur produit matriciel s'il existe ou un message d'erreur dans le cas contraire. \n"
   ]
  },
  {
   "cell_type": "code",
   "execution_count": 1,
   "metadata": {},
   "outputs": [],
   "source": [
    "def transpose(A):\n",
    "    B = [[A[p][n] for p in range(len(A))] for n in range(len(A[0]))]\n",
    "    return B\n",
    "\n",
    "def diagonale(A):\n",
    "    lig = len(A)\n",
    "    col = len(A[0])\n",
    "    if (lig != col):\n",
    "        return False\n",
    "    else:\n",
    "        b = [[0 for _ in range(col)] for _ in range(lig)]\n",
    "\n",
    "#def trace(A):\n",
    "    \n",
    "#def valeurmax(A):\n",
    "    \n",
    "#def produitscalaire(A,B):\n",
    "    \n",
    "#def produitmatrice(A,B):"
   ]
  }
 ],
 "metadata": {
  "deepnote_notebook_id": "a33f253351fd45538dea8212e08b30f7",
  "kernelspec": {
   "display_name": "Python 3",
   "language": "python",
   "name": "python3"
  },
  "language_info": {
   "codemirror_mode": {
    "name": "ipython",
    "version": 3
   },
   "file_extension": ".py",
   "mimetype": "text/x-python",
   "name": "python",
   "nbconvert_exporter": "python",
   "pygments_lexer": "ipython3",
   "version": "3.12.0"
  }
 },
 "nbformat": 4,
 "nbformat_minor": 0
}
