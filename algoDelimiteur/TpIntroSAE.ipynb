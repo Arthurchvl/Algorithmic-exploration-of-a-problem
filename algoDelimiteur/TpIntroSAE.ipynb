{
 "cells": [
  {
   "cell_type": "markdown",
   "metadata": {},
   "source": [
    "Les logiciels de calcul symbolique tels que  Maple, Mathematica, Maxima et Sage sont capables de lire une expression symbolique telle que :  \n",
    "$$ (x + y)^2 -(x - y)^2 $$\n",
    "et de déterminer si les parenthèses, ou plus généralement les **délimiteurs**  correspondent ou non.  \n",
    "Un délimiteur est l'un des caractères suivants :\n",
    "**( )** **{ }** **[ ]**.  \n",
    "Une chaîne S de caractères est dite équilibrée si un délimiteur gauche de S a un délimiteur droit correspondant qui est également dans S. De plus, s'il y a $k$ occurrences\n",
    "d'un type de délimiteur gauche, alors il doit y avoir $k$ occurrences du délimiteur droit\n",
    "correspondant.  \n",
    "L'algorithme ci-dessous permet de  déterminer si les délimiteurs contenus dans une chaine de caractères, S, sont équilibrés et, si tel est le cas, de renvoyer une liste d'entiers positifs décrivant la correspondance des délimiteurs. "
   ]
  },
  {
   "cell_type": "markdown",
   "metadata": {},
   "source": [
    "![Delimiteur](AlgoDelimiteur.png)"
   ]
  },
  {
   "cell_type": "markdown",
   "metadata": {},
   "source": [
    "Essayez de **dérouler** l'algorithme \"à la main\" sur un exemple pour mieux comprendre son fonctionnement.  \n",
    "Regardez ensuite comment utiliser une pile (**_from collections import deque_**) en python (les méthodes correspondantes : empiler, dépiler). Vous pouvez également utiliser une liste comme une pile : dernier élément ajouté,  premier récupéré (« dernier entré, premier sorti » ou **LIFO** pour last-in, first-out)."
   ]
  },
  {
   "cell_type": "markdown",
   "metadata": {},
   "source": [
    "L'objectif de ces premières séances est de mettre en oeuvre cet algorithme (pas un autre !).  \n",
    "N'hésitez pas à poser vos questions sur le forum du cours (moodle), les réponses (ou indications) à ces questions pourront ainsi bénéficier à tous.\n",
    "N'hésitez pas à contribuer en proposant vos solutions ou vos réponses (aux questions posées)."
   ]
  },
  {
   "cell_type": "markdown",
   "metadata": {},
   "source": []
  }
 ],
 "metadata": {
  "kernelspec": {
   "display_name": "Python 3",
   "language": "python",
   "name": "python3"
  },
  "language_info": {
   "name": "python",
   "version": "3.10.12"
  }
 },
 "nbformat": 4,
 "nbformat_minor": 2
}
